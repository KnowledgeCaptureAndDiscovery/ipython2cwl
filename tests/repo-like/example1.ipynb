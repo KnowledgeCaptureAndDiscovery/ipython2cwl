{
 "cells": [
  {
   "cell_type": "code",
   "execution_count": 3,
   "metadata": {},
   "outputs": [],
   "source": [
    "from ipython2cwl.iotypes import CWLFilePathInput, CWLFilePathOutput\n",
    "import yaml"
   ]
  },
  {
   "cell_type": "code",
   "execution_count": 4,
   "metadata": {},
   "outputs": [
    {
     "name": "stdout",
     "output_type": "stream",
     "text": [
      "{'entry1': 1, 'entry2': 'foo', 'entry3': 'bar'}\n"
     ]
    }
   ],
   "source": [
    "datafilename: CWLFilePathInput = 'data.yaml'\n",
    "\n",
    "with open(datafilename) as fd: \n",
    "    data = yaml.safe_load(fd)\n",
    "print(data)"
   ]
  },
  {
   "cell_type": "code",
   "execution_count": null,
   "metadata": {},
   "outputs": [],
   "source": [
    "data['entry1'] += 1"
   ]
  },
  {
   "cell_type": "code",
   "execution_count": 8,
   "metadata": {},
   "outputs": [],
   "source": [
    "results_filename: CWLFilePathOutput = 'result.yaml'\n",
    "with open(results_filename, 'w') as fd:\n",
    "    yaml.safe_dump(data, fd)"
   ]
  }
 ],
 "metadata": {
  "kernelspec": {
   "display_name": "Python 3",
   "language": "python",
   "name": "python3"
  },
  "language_info": {
   "codemirror_mode": {
    "name": "ipython",
    "version": 3
   },
   "file_extension": ".py",
   "mimetype": "text/x-python",
   "name": "python",
   "nbconvert_exporter": "python",
   "pygments_lexer": "ipython3",
   "version": "3.6.10"
  }
 },
 "nbformat": 4,
 "nbformat_minor": 4
}
