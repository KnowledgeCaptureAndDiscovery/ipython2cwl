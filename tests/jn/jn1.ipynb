{
 "cells": [
  {
   "cell_type": "markdown",
   "source": [
    "Load data"
   ],
   "metadata": {
    "collapsed": false,
    "pycharm": {
     "name": "#%% md\n"
    }
   }
  },
  {
   "cell_type": "code",
   "execution_count": 4,
   "metadata": {},
   "outputs": [],
   "source": [
    "import csv\n",
    "with open('../data/data.csv') as f:\n",
    "  data = list(csv.reader(f))\n",
    "header = data[0]\n",
    "data = [[float(col) for col in row] for row in data[1:]]"
   ]
  },
  {
   "cell_type": "markdown",
   "source": [
    "Transform"
   ],
   "metadata": {
    "collapsed": false,
    "pycharm": {
     "name": "#%% md\n"
    }
   }
  },
  {
   "cell_type": "code",
   "execution_count": 6,
   "outputs": [
    {
     "name": "stdout",
     "output_type": "stream",
     "text": [
      "[[2.027079849977142, 2.414427719753588], [2.913246991012208, 2.280751434898027], [2.3867147462859806, 2.7230534076257067], [2.331005008140288, 2.917515282320703], [2.8071163132500474, 2.6357883453313136], [2.82061872049875, 2.2675502162046475], [2.4716657611409443, 2.01062205367849], [2.765845728595389, 2.5733686754667833], [2.6892731567313692, 2.3440854669979796], [2.702789424564822, 2.1671950442458616], [2.7650979820655444, 2.7789083184250654], [2.837982608583824, 2.9620610173934834], [2.324154229294887, 2.5074618882255733], [2.735597359946725, 2.5924892308484284], [2.417863176080809, 2.2743798994502193], [2.610712653766595, 2.143883086818321], [2.5451589065720457, 2.5390768595261317], [2.728611856713089, 2.989249829773875], [2.596469672743309, 2.1011312153563226], [2.13827586726209, 2.757803884289991]]\n"
     ]
    }
   ],
   "source": [
    "data = [[col+1 for col in row] for row in data]\n",
    "print(data)"
   ],
   "metadata": {
    "collapsed": false,
    "pycharm": {
     "name": "#%%\n"
    }
   }
  },
  {
   "cell_type": "markdown",
   "source": [
    "Generate output"
   ],
   "metadata": {
    "collapsed": false
   }
  },
  {
   "cell_type": "code",
   "execution_count": 12,
   "outputs": [
    {
     "name": "stdout",
     "output_type": "stream",
     "text": [
      "../output/data.csv created\n"
     ]
    }
   ],
   "source": [
    "import os\n",
    "output_dir = '../output'\n",
    "output_filename = os.sep.join([output_dir, 'data.csv'])\n",
    "os.makedirs(output_dir, exist_ok=True)\n",
    "with open(output_filename, 'w') as f:\n",
    "    f.write(','.join(header))\n",
    "    f.write('\\n')\n",
    "    f.write(\n",
    "      '\\n'.join(\n",
    "          [','.join([str(col) for col in row]) for row in data]\n",
    "      )\n",
    "    )\n",
    "print(f'{output_filename} created')"
   ],
   "metadata": {
    "collapsed": false,
    "pycharm": {
     "name": "#%%\n"
    }
   }
  }
 ],
 "metadata": {
  "kernelspec": {
   "name": "pycharm-7874a59f",
   "language": "python",
   "display_name": "PyCharm (IPython2CWL)"
  },
  "language_info": {
   "codemirror_mode": {
    "name": "ipython",
    "version": 3
   },
   "file_extension": ".py",
   "mimetype": "text/x-python",
   "name": "python",
   "nbconvert_exporter": "python",
   "pygments_lexer": "ipython3",
   "version": "3.6.10"
  }
 },
 "nbformat": 4,
 "nbformat_minor": 4
}